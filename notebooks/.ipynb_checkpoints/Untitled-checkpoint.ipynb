{
 "cells": [
  {
   "cell_type": "code",
   "execution_count": null,
   "id": "c0518a87",
   "metadata": {},
   "outputs": [],
   "source": []
  }
 ],
 "metadata": {
  "css_paths": [
   "custom.css"
  ],
  "custom_css": true,
  "kernelspec": {
   "display_name": "Python 3 (ipykernel)",
   "language": "python",
   "name": "python3"
  }
 },
 "nbformat": 4,
 "nbformat_minor": 5
}
